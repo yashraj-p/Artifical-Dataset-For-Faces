{
  "cells": [
    {
      "cell_type": "code",
      "execution_count": null,
      "metadata": {
        "id": "r9ganlRzSBEo"
      },
      "outputs": [],
      "source": [
        "!pip install --upgrade diffusers[torch]\n",
        "!pip install transformers\n"
      ]
    },
    {
      "cell_type": "code",
      "execution_count": null,
      "metadata": {
        "id": "ZDS9mY1JaemC"
      },
      "outputs": [],
      "source": [
        "from diffusers import DiffusionPipeline\n",
        "import torch\n",
        "\n",
        "pipeline = DiffusionPipeline.from_pretrained(\"runwayml/stable-diffusion-v1-5\", torch_dtype=torch.float16)\n",
        "pipeline.to(\"cuda\")"
      ]
    },
    {
      "cell_type": "code",
      "source": [
        "import random\n",
        "import os\n",
        "import matplotlib.pyplot as plt\n",
        "\n",
        "\n",
        "emotion_prompts = {\n",
        "    'happy': 'smiling, joyful, delighted',\n",
        "    'sad': 'frowning, sad face expression, crying',\n",
        "    'angry': 'angry, hostility',\n",
        "    'surprised': 'surprised, opened mouth, raised eyebrows'\n",
        "}\n",
        "\n",
        "for emotion in emotion_prompts:\n",
        "    directory = f'/content/faces/{emotion}'\n",
        "    os.makedirs(directory, exist_ok=True)\n",
        "\n",
        "\n",
        "\n",
        "ethnicities = [\n",
        "    \"an Abruzzi\", \"an Acadian/Cajun\", \"an Aden\", \"an Afghan/Afghanistani\", \"an African\", \"an African American\", \"an African Islands\", \"an Afrikaner\", \"an Afro\", \"an Afro-American\", \"an Agikuyu/Kikuyu\", \"an Akan\", \"an Alabama\", \"an Aland Islander\", \"an Alaska\", \"an Alaska Athabascan\", \"an Alaska Native\", \"an Albanian\", \"an Aleut\", \"an Algerian\", \"an Alhucemas\", \"an Alsatian\", \"an Amalfi\", \"an Amara/Amhara\", \"an Amazigh/Imazighen/Berber\", \"an Amerasian\", \"an American Indian\", \"an American Indian and Alaska Native\", \"an American Indian-English-French\", \"an American Indian-English-German\", \"an American Indian-English-Irish\", \"an American Indian-German-Irish\", \"an American Samoan\", \"an American/United States\", \"an Amerindian/Indigena/Indio\", \"an Andalusian\", \"an Andaman Islander\", \"an Andhra Pradesh\", \"an Andorran\", \"an Anglo\", \"an Angolan\", \"an Anguilla Islander\", \"an Antiguan/Barbudan\", \"an Apache\", \"an Appalachian\", \"an Apulian\", \"an Arab/Arabic\", \"an Arapaho\", \"an Arawak\", \"an Argentinean/Argentine\", \"an Arizona\", \"an Arkansas\", \"an Armenian\", \"an Aruba Islander\", \"an Aryan\", \"an Asian\", \"an Assamese\", \"an Assiniboine Sioux\", \"an Assyrian/Chaldean/Syriac\", \"an Asturian\", \"an Australian\", \"an Australian Aborigine\", \"an Austrian\", \"an Azerbaijani\", \"an Azeri\", \"an Azorean\", \"a Baggara\", \"a Bahamian\", \"a Bahraini\", \"a Bajan/Barbadian\", \"a Balearic Islander\", \"a Baluchi\", \"a Bamar/Burman\", \"a Bangladeshi\", \"a Bantu\", \"a Barbadian\", \"a Bashkir\", \"a Basilicata\", \"a Basque\", \"a Bavarian\", \"a Bedouin\", \"a Belarusian/Belorussian\", \"a Belgian\", \"a Belizean\", \"a Belorussian\", \"a Bengali\", \"a Benin\", \"a Berber\", \"a Berliner\", \"a Bermudan\", \"a Bessarabian\", \"a Bhutanese\", \"a Bioko\", \"a Black\", \"a Black Thai\", \"a Black or African American\", \"a Blackfeet\", \"a Blackfeet Tribe of the Blackfeet Indian Reservation of Montana\", \"a Bohemian\", \"a Bolivian\", \"a Borneo\", \"a Bosniak\", \"a Bosnian/Herzegovinian\", \"a Botswana\", \"a Brazilian\", \"a Breton\", \"a British\", \"a British Isles\", \"a British Virgin Islander\", \"a British West Indian/Indies\", \"a Briton/British\", \"a Bucovina\", \"a Bulgarian\", \"a Burman\", \"a Burmese\", \"a Burundian\", \"a Cabo Verdean\", \"a Cajun\", \"a Calabrian\", \"a California\", \"a Californio\", \"a Cambodian\", \"a Cameroonian/Cameroon\", \"a Campbell Islander\", \"a Canadian\", \"a Canadian American Indian\", \"a Canadian and French American Indian\", \"a Canal Zone\", \"a Canary Islander\", \"a Cantonese\", \"a Cape Verdean\", \"a Caribbean\", \"a Caroline Islander\", \"a Carpathian\", \"a Carpatho Rusyn\", \"a Castillian\", \"a Catalonian\", \"a Cayenne\", \"a Cayman Islander\", \"a Celtic\", \"a Central African\", \"a Central African Republic\", \"a Central American\", \"a Central American Indian\", \"a Central European\", \"a Chadian\", \"a Chamolinian\", \"a Chamorro Islander\", \"a Channel Islander\", \"a Cherokee\", \"a Chevash\", \"a Cheyenne\", \"a Chicano/Chicana\", \"a Chickasaw\", \"a Chilean\", \"a Chinese\", \"a Chippewa\", \"a Chippewa-Cree Indians of the Rocky Boy's Reservation\", \"a Choctaw\", \"a Christmas Islander\", \"a Chumash\", \"a Chuukese\", \"a Colombian\", \"a Colorado\", \"a Colored\", \"a Colville\", \"a Comanche\", \"a Comanche Nation\", \"a Confederated Salish and Kootenai Tribes of the Flathead Nation\", \"a Confederated Tribes and Bands of the Yakama Nation\", \"a Confederated Tribes of the Colville Reservation\", \"a Congo-Brazzaville\", \"a Congolese/Congo\", \"a Connecticut\", \"a Cook Islander\", \"a Cornish\", \"a Corsican\", \"a Corsico Islander\", \"a Cossack\", \"a Costa Rican\", \"a Cree\", \"a Creek\", \"a Creole\", \"a Cretan\", \"a Crimean\", \"a Criollo/Criolla\", \"a Croatian/Croat\", \"a Crow\", \"a Crow Tribe of Montana\", \"a Cuban\", \"a Cuban American\", \"a Cycladic Islander\", \"a Cypriot\", \"a Czech\", \"a Czechoslovakian\", \"a Danish/Dane\", \"a Delaware\", \"a Dinka\", \"a District of Columbia\", \"a Djibouti\", \"a Dominica Islander\", \"a Dominican\", \"a Dutch\", \"a Dutch West Indian\", \"a Dutch West Indian/Indies\", \"a Dutch-French-Irish\", \"a Dutch-German-Irish\", \"a Dutch-Irish-Scotch\", \"an East African\", \"an East German\", \"an East Indian\", \"an East Indies\", \"an Eastern Archipelago\", \"an Eastern Cherokee\", \"an Eastern European\", \"an Eastern Tribes\", \"an Ecuadorian\", \"an Egyptian\", \"an Emilia Romagna\", \"an English\", \"an English-French-German\", \"an English-French-Irish\", \"an English-German-Irish\", \"an English-German-Swedish\", \"an English-Irish-Scotch\", \"an English-Scotch-Welsh\", \"an Equatorial Guinea\", \"an Eritrean\", \"an Eskimo\", \"an Estonian\", \"an Ethiopian\", \"an Eurasian\", \"an European\", \"a Faeroe Islander\", \"a Fijian\", \"a Filipino/Philippine\", \"a Finnish/Finn\", \"a Finno Ugrian\", \"a Fleming/Flemish\", \"a Florida\", \"a Formosan\", \"a French\", \"a French Basque\", \"a French Canadian\", \"a French Samoan\", \"a French West Indies\", \"a Frisian\", \"a Friulian\", \"a Fulani/Hausa\", \"a Fur\", \"a Gabonese\", \"a Gagauz\", \"a Galician\", \"a Gallego\", \"a Gambian\", \"a Gazan\", \"a Georgia\", \"a Georgian/Georgia CIS\", \"a German\", \"a German Russian\", \"a German-French-Irish\", \"a German-Irish-Italian\", \"a German-Irish-Scotch\", \"a German-Irish-Swedish\", \"a Germanic\", \"a Ghanaian/Ghanian\", \"a Gibraltan\", \"a Goanese\", \"a Gosei\", \"a Greek\", \"a Greek Cypriote\", \"a Greenlander\", \"a Grenadian\", \"a Gruziia\", \"a Guadeloupe Islander\", \"a Guamanian\", \"a Guatemalan\", \"a Guinea Bissau\", \"a Guinean\", \"a Gujarati\", \"a Guyanese\", \"a Guyanese/British Guiana\", \"a Guyanese/French Guiana\", \"a Haitian\", \"a Hall Islander\", \"a Hamburger\", \"a Hanoverian\", \"a Hausa\", \"a Hawaiian\", \"a Hawaiian/Native Hawaiian\", \"a Hessian\", \"a Hispanic\", \"a Hmong\", \"a Honduran\", \"a Hong Kong\", \"a Hopi\", \"a Hungarian\", \"a Husel\", \"an Ibo/Igbo\", \"an Icelander\", \"an Idaho\", \"an Ifni\", \"an Illinois\", \"an India\", \"an Indian\", \"an Indiana\", \"an Indochinese\", \"an Indonesian\", \"an Inuit\", \"an Inupiat\", \"an Inupiat Eskimo\", \"an Iowa\", \"an Iranian\", \"an Iraqi\", \"an Irish\", \"an Irish Scotch\", \"an Iroquois\", \"an Israeli\", \"an Issei\", \"an Italian\", \"an Ivoirian/Ivory Coast\", \"a Jamaican\", \"a Japanese\", \"a Javanese/Java/Jawa\", \"a Jebel Druse\", \"a Jewish/Jew\", \"a Jordanian\", \"a Kalmyk\", \"a Kansas\", \"a Kapinagamarangan\", \"a Karelian\", \"a Karnatakan\", \"a Kashmiri\", \"a Kashubian\", \"a Katu\", \"a Kazakh/Qazaq\", \"a Kazakhstani\", \"a Kentucky\", \"a Kenyan\", \"a Keralan\", \"a Keres\", \"a Kermadec Islander\", \"a Khmer\", \"a Kinh/Viet\", \"a Kiowa\", \"a Kirghiz\", \"a Kiribatese\", \"a Kittitian/Nevisian\", \"a Kitts/Nevis Islander\", \"a Korean\", \"a Kosraean\", \"a Kurdish/Kurd\", \"a Kuria Muria Islander\", \"a Kuwaiti\", \"a La Raza\", \"a Ladin\", \"a Lamotrekese\", \"a Lao Loum/Lowland Lao\", \"a Laotian/Lao\", \"a Lapp\", \"a Latakian\", \"a Latin\", \"a Latin American\", \"a Latin American Indian\", \"a Latino/Latina\", \"a Latvian\", \"a Lebanese\", \"a Lemko\", \"a Lesotho\", \"a Liberian\", \"a Libyan\", \"a Liechtensteiner\", \"a Ligurian\", \"a Lithuanian\", \"a Livonian\", \"a Lombardian\", \"a Lorrainian\", \"a Louisiana\", \"a Lubecker\", \"a Luiseno\", \"a Lumbee\", \"a Lumbee Indian\", \"a Luxemburger\", \"a Ma\", \"a Macao\", \"a Macedonian\", \"a Madagascan\", \"a Madeiran\", \"a Madhya Pradesh\", \"a Madrasi\", \"a Magyar\", \"a Maharashtran\", \"a Maine\", \"a Malawian\", \"a Malay\", \"a Malaysian\", \"a Maldivian\", \"a Malian\", \"a Maltese\", \"a Manchurian\", \"a Mandarin\", \"a Manx\", \"a Maori\", \"a Marches\", \"a Marshall Islander\", \"a Marshallese\", \"a Maryland\", \"a Massachusetts\", \"a Mauritanian\", \"a Mauritius\", \"a Melanesian\", \"a Melanesian Islander\", \"a Mende\", \"a Menominee Indian\", \"a Meo\", \"a Mesknetian\", \"a Mestizo\", \"a Mexican\", \"a Mexican American\", \"a Mexican American Indian\", \"a Mexican Indian\", \"a Mexican State\", \"a Mexicano/Mexicana\", \"a Miami\", \"a Michigan\", \"a Micmac\", \"a Micronesian\", \"a Middle Eastern\", \"a Midway Islander\", \"a Minnesota\", \"a Mississippi\", \"a Missouri\", \"a Mnong\", \"a Mohawk\", \"a Mokilese\", \"a Moldovan/Moldavian\", \"a Molise\", \"a Monegasque\", \"a Mongolian\", \"a Montagnard\", \"a Montana\", \"a Montenegrin\", \"a Montserrat Islander\", \"a Moor\", \"a Moravian\", \"a Mordovian\", \"a Moroccan\", \"a Mortlockese\", \"a Mozambican\", \"a Mulatto\", \"a Muscat\", \"a Muscogee (Creek) Nation\", \"a Muscovite\", \"a Mysore\", \"a Naga\", \"a Namanouito\", \"a Namibian\", \"a Natalian\", \"a Native American\", \"a Native Hawaiian\", \"a Nauruan\", \"a Navajo\", \"a Navajo Nation\", \"a Neapolitan\", \"a Nebraska\", \"a Nepalese/Nepali\", \"a Nevada\", \"a New Caledonian Islander\", \"a New Guinean\", \"a New Hampshire\", \"a New Jersey\", \"a New Mexico\", \"a New York\", \"a New Zealander\", \"a Newfoundland\", \"a Ngatikese\", \"a Nicaraguan\", \"a Niger\", \"a Nigerian\", \"a Nisei\", \"a Niuean\", \"a Nonwhite\", \"a Norfolk Islander\", \"a North African\", \"a North American\", \"a North Borneo\", \"a North Carolina\", \"a North Caucasian\", \"a North Caucasian Turkic\", \"a North Dakota\", \"a Northern European\", \"a Northern Irelander\", \"a Northern Marianas\", \"a Norwegian\", \"a Nova Scotian\", \"a Nuer\", \"a Nuevo Mexicano\", \"a Nukuoroan\", \"an Occitan\", \"an Oceania\", \"an Oglala Sioux\", \"an Ohio\", \"an Okinawan\", \"an Oklahoma\", \"an Oklahoma Choctaw\", \"an Omani\", \"an Oneida Nation of New York/Oneida\", \"an Oneida Tribe of Indians of Wisconsin\", \"an Oregon\", \"an Orissa\", \"an Oromo\", \"an Osage\", \"an Ossetian\", \"an Ottawa\", \"a Pacific Islander\", \"a Paiute\", \"a Pakistani\", \"a Palauan\", \"a Palestinian\", \"a Panamanian\", \"a Papuan\", \"a Paraguayan\", \"a Pashtun/Pathan\", \"a Pennsylvania\", \"a Pennsylvania German\", \"a Persian\", \"a Peruvian\", \"a Phoenix Islander\", \"a Piedmontese\", \"a Pima\", \"a Pingelapese\", \"a Polish/Pole\", \"a Polynesian\", \"a Pomeranian\", \"a Pomo\", \"a Ponapean\", \"a Pondicherry\", \"a Portuguese\", \"a Potawatomi\", \"a Providencia\", \"a Prussian\", \"a Pueblo\", \"a Puerto Rican\", \"a Puget Sound Salish\", \"a Puglia\", \"a Pulawatese\", \"a Punjabi\", \"a Qatar\", \"a Quechua\", \"a Rajasthani\", \"a Rhode Island\", \"a Rio de Oro\", \"a Rom\", \"a Romani\", \"a Romanian\", \"a Romansch\", \"a Romanscho\", \"a Rome\", \"a Rosebud Sioux\", \"a Rumanian\", \"a Russian\", \"a Rusyn\", \"a Ruthenian\", \"a Rwandan\", \"a Ryukyu Islander\", \"a Sac and Fox\", \"a Saint Lucian\", \"a Saipanese\", \"a Salvadoran\", \"a Samoan\", \"a San Andres\", \"a San Carlos Apache\", \"a San Marino\", \"a Sansei\", \"a Sardinian\", \"a Saudi Arabian/Saudi\", \"a Sault Ste. Marie Chippewa\", \"a Saxon\", \"a Scandinavian/Nordic\", \"a Scotch-Irish\", \"a Scottish\", \"a Seminole\", \"a Seneca\", \"a Senegalese\", \"a Serbian/Serb\", \"a Shan\", \"a Shawnee\", \"a Shona\", \"a Shoshone\", \"a Sicilian\", \"a Sierra Leonean\", \"a Sikkim\", \"a Silesian\", \"a Singaporean\", \"a Singhalese/Sinhalese\", \"a Sioux\", \"a Slavic/Slav\", \"a Slavonian\", \"a Slovak\", \"a Slovenian/Sloven\", \"a Solomon Islander\", \"a Somalian/Somali\", \"a Sorb/Wend\", \"a South African\", \"a South American\", \"a South American Indian\", \"a South Carolina\", \"a South Dakota\", \"a South Yemeni\", \"a Southern European\", \"a Southerner\", \"a Soviet Central Asia\", \"a Soviet Turkic\", \"a Soviet/Soviet Union\", \"a Spaniard\", \"a Spanish\", \"a Spanish American\", \"a Spanish American Indian\", \"a Spanish Basque\", \"a Sri Lankan\", \"a St. Christopher\", \"a St. Croix Islander\", \"a St. John Islander\", \"a St. Lucia Islander\", \"a St. Maarten Islander\", \"a St. Thomas Islander\", \"a St. Vincent Islander/Vincent-Grenadine Islander\", \"a St. Vincent/Grenadine Islander\", \"a Subsaharan African\", \"a Sudanese\", \"a Sudetenlander\", \"a Suisse\", \"a Sumatran\", \"a Surinamese\", \"a Surinamese/Dutch Guiana\", \"a Swaziland\", \"a Swedish/Swede\", \"a Swiss\", \"a Switzer\", \"a Syrian\", \"a Tadzhik\", \"a Tagalog\", \"a Tahitian\", \"a Taiwanese\", \"a Tamil\", \"a Tanganyikan\", \"a Tanzanian\", \"a Tarawa Islander\", \"a Tartar\", \"a Tasmanian\", \"a Tatar\", \"a Tejano/Tejana\", \"a Temne/Temme/Themne\", \"a Tennessee\", \"a Teton Sioux\", \"a Texas\", \"a Thai\", \"a Three Affiliated Tribes of North Dakota\", \"a Tibetan\", \"a Ticino\", \"a Tigrinya/Tigray/Tigraway\", \"a Tinian Islander\", \"a Tirolean\", \"a Tiv\", \"a Tlingit\", \"a Tlingit-Haida\", \"a Tobagonian\", \"a Togolese/Togo\", \"a Tohono O Odham\", \"a Tokelauan\", \"a Tongan\", \"a Transjordan\", \"a Transylvanian\", \"a Trentino\", \"a Trieste\", \"a Trinidadian/Tobagonian\", \"a Trucial Oman\", \"a Truk Islander\", \"a Trust Territory of the Pacific Islands\", \"a Tsimshian\", \"a Tunisian\", \"a Turcoman\", \"a Turkestani\", \"a Turkish Cypriote\", \"a Turkish/Turk\", \"a Turks & Caicos Islander\", \"a Turtle Mountain\", \"a Tuscan\", \"a Tuvinian\", \"a U.S. Virgin Islander\", \"an Udmurt\", \"an Ugandan\", \"an Ukrainian\", \"an Ulithian\", \"an Umbrian\", \"a Union of South Africa\", \"a United Arab Emirates/Emirati\", \"a United Houma Nation\", \"an Upper Voltan\", \"an Uruguayan\", \"an Utah\", \"an Ute\", \"an Uttar Pradesh\", \"an Uzbek/Uzbeg\", \"an Uzbekistani\", \"a Valencian\", \"a Valle d Aosta\", \"a Vanuatuan\", \"a Veddah\", \"a Venetian\", \"a Venezuelan\", \"a Vermont\", \"a Vietnamese\", \"a Virginia\", \"a Volga\", \"a Volta\", \"a Voytak\", \"a Wake Islander\", \"a Wallachian\", \"a Walloon\", \"a Washington\", \"a Welsh\", \"a West African\", \"a West Bank\", \"a West German\", \"a West Indian\", \"a West Virginia\", \"a Western European\", \"a Western Lao\", \"a Westphalian\", \"a White Mountain Apache\", \"a White/Caucasian\", \"a Windish\", \"a Wisconsin\", \"a Woleaian\", \"a Wyoming\", \"a Yakama\", \"a Yakut\", \"a Yap Islander\", \"a Yaqui\", \"a Yemeni\", \"a Yonsei\", \"a Yoruba\", \"a Yugoslavian\", \"a Yuman\", \"a Yupik/Yup ik Eskimo\", \"a Zairian\", \"a Zambian\", \"a Zanzibar Islander\", \"a Zimbabwean\", \"a Zulu\", \"a Zuni\"]\n",
        "\n",
        "\n",
        "genders = ['male', 'female']\n",
        "\n",
        "positive_prompt = 'Medium-shot portrait of {} {}, {}, human, front view, looking at the camera, color photography, '.format('{}', '{}', '{}') + \\\n",
        "                  'photorealistic, hyperrealistic, realistic, incredibly detailed, crisp focus, digital art, depth of field, 50mm, 8k'\n",
        "negative_prompt = '3d, cartoon, anime, sketches, (worst quality:2), (low quality:2), (normal quality:2), lowres, normal quality, ((monochrome)), ' + \\\n",
        "                  '((grayscale)) Low Quality, Worst Quality, plastic, fake, disfigured, deformed, blurry, bad anatomy, blurred, watermark, grainy, signature'\n",
        "\n",
        "for j in range(3):\n",
        "    for emotion, emotion_prompt in emotion_prompts.items():\n",
        "        ethnicity = random.choice(ethnicities)\n",
        "        gender = random.choice(genders)\n",
        "\n",
        "        prompt = positive_prompt.format(ethnicity, gender, emotion_prompt)\n",
        "        img = pipeline(prompt, negative_prompt=negative_prompt).images[0]\n",
        "\n",
        "        img.save('/content/faces/{}/{}.png'.format(emotion, str(j).zfill(4)))\n",
        "\n"
      ],
      "metadata": {
        "id": "7fYF5VG92Dqb"
      },
      "execution_count": null,
      "outputs": []
    },
    {
      "cell_type": "code",
      "source": [
        "!zip -r faces.zip /content/faces"
      ],
      "metadata": {
        "id": "YNoOAbU5KxO8"
      },
      "execution_count": null,
      "outputs": []
    },
    {
      "cell_type": "code",
      "source": [
        "from google.colab import drive\n",
        "\n",
        "drive.mount('/content/gdrive')"
      ],
      "metadata": {
        "id": "fT0NP3pVK1r_"
      },
      "execution_count": null,
      "outputs": []
    },
    {
      "cell_type": "code",
      "source": [
        "!scp '/content/faces.zip' '/content/gdrive/My Drive/Artifical-Dataset-For-Faces/faces.zip'"
      ],
      "metadata": {
        "id": "r1w_JbDcK1_T"
      },
      "execution_count": null,
      "outputs": []
    }
  ],
  "metadata": {
    "accelerator": "GPU",
    "colab": {
      "provenance": []
    },
    "kernelspec": {
      "display_name": "Python 3",
      "name": "python3"
    },
    "language_info": {
      "name": "python"
    }
  },
  "nbformat": 4,
  "nbformat_minor": 0
}